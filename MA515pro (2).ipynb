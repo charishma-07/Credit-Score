{
  "nbformat": 4,
  "nbformat_minor": 0,
  "metadata": {
    "colab": {
      "provenance": []
    },
    "kernelspec": {
      "name": "python3",
      "display_name": "Python 3"
    },
    "language_info": {
      "name": "python"
    }
  },
  "cells": [
    {
      "cell_type": "code",
      "execution_count": 2,
      "metadata": {
        "id": "1iPzy9QDZ5Ny"
      },
      "outputs": [],
      "source": [
        "import numpy as np"
      ]
    },
    {
      "cell_type": "code",
      "source": [
        "import pandas as pd"
      ],
      "metadata": {
        "id": "7q0NbRVZbaoI"
      },
      "execution_count": 3,
      "outputs": []
    },
    {
      "cell_type": "code",
      "source": [
        "data=pd.read_csv('Credit_Score.csv')"
      ],
      "metadata": {
        "id": "LSpq4F6ebdCH"
      },
      "execution_count": 5,
      "outputs": []
    },
    {
      "cell_type": "code",
      "source": [
        "#summary of the data\n",
        "data.describe()"
      ],
      "metadata": {
        "id": "ErSyiPWIbif-",
        "colab": {
          "base_uri": "https://localhost:8080/",
          "height": 394
        },
        "outputId": "32421203-fbe7-4596-a7cd-bd4cf5787247"
      },
      "execution_count": 6,
      "outputs": [
        {
          "output_type": "execute_result",
          "data": {
            "text/plain": [
              "                  ID    Customer_ID          Month            Age  \\\n",
              "count  100000.000000  100000.000000  100000.000000  100000.000000   \n",
              "mean    80631.500000   25982.666640       4.500000      33.316340   \n",
              "std     43301.486619   14340.543051       2.291299      10.764812   \n",
              "min      5634.000000    1006.000000       1.000000      14.000000   \n",
              "25%     43132.750000   13664.500000       2.750000      24.000000   \n",
              "50%     80631.500000   25777.000000       4.500000      33.000000   \n",
              "75%    118130.250000   38385.000000       6.250000      42.000000   \n",
              "max    155629.000000   50999.000000       8.000000      56.000000   \n",
              "\n",
              "                SSN  Annual_Income  Monthly_Inhand_Salary  Num_Bank_Accounts  \\\n",
              "count  1.000000e+05  100000.000000          100000.000000      100000.000000   \n",
              "mean   5.004617e+08   50505.123449            4197.270835           5.368820   \n",
              "std    2.908267e+08   38299.422093            3186.432497           2.593314   \n",
              "min    8.134900e+04    7005.930000             303.645417           0.000000   \n",
              "25%    2.451686e+08   19342.972500            1626.594167           3.000000   \n",
              "50%    5.006886e+08   36999.705000            3095.905000           5.000000   \n",
              "75%    7.560027e+08   71683.470000            5957.715000           7.000000   \n",
              "max    9.999934e+08  179987.280000           15204.633330          11.000000   \n",
              "\n",
              "       Num_Credit_Card  Interest_Rate  ...  Delay_from_due_date  \\\n",
              "count    100000.000000   100000.00000  ...         100000.00000   \n",
              "mean          5.533570       14.53208  ...             21.08141   \n",
              "std           2.067098        8.74133  ...             14.80456   \n",
              "min           0.000000        1.00000  ...              0.00000   \n",
              "25%           4.000000        7.00000  ...             10.00000   \n",
              "50%           5.000000       13.00000  ...             18.00000   \n",
              "75%           7.000000       20.00000  ...             28.00000   \n",
              "max          11.000000       34.00000  ...             62.00000   \n",
              "\n",
              "       Num_of_Delayed_Payment  Changed_Credit_Limit  Num_Credit_Inquiries  \\\n",
              "count           100000.000000         100000.000000         100000.000000   \n",
              "mean                13.313120             10.470323              5.798250   \n",
              "std                  6.237166              6.609481              3.867826   \n",
              "min                  0.000000              0.500000              0.000000   \n",
              "25%                  9.000000              5.380000              3.000000   \n",
              "50%                 14.000000              9.400000              5.000000   \n",
              "75%                 18.000000             14.850000              8.000000   \n",
              "max                 25.000000             29.980000             17.000000   \n",
              "\n",
              "       Outstanding_Debt  Credit_Utilization_Ratio  Credit_History_Age  \\\n",
              "count     100000.000000             100000.000000       100000.000000   \n",
              "mean        1426.220376                 32.285173          221.220460   \n",
              "std         1155.129026                  5.116875           99.680716   \n",
              "min            0.230000                 20.000000            1.000000   \n",
              "25%          566.072500                 28.052567          144.000000   \n",
              "50%         1166.155000                 32.305784          219.000000   \n",
              "75%         1945.962500                 36.496663          302.000000   \n",
              "max         4998.070000                 50.000000          404.000000   \n",
              "\n",
              "       Total_EMI_per_month  Amount_invested_monthly  Monthly_Balance  \n",
              "count        100000.000000            100000.000000    100000.000000  \n",
              "mean            107.699208                55.101315       392.697586  \n",
              "std             132.267056                39.006932       201.652719  \n",
              "min               0.000000                 0.000000         0.007760  \n",
              "25%              29.268886                27.959111       267.615983  \n",
              "50%              66.462304                45.156550       333.865366  \n",
              "75%             147.392573                71.295797       463.215683  \n",
              "max            1779.103254               434.191089      1183.930696  \n",
              "\n",
              "[8 rows x 21 columns]"
            ],
            "text/html": [
              "\n",
              "  <div id=\"df-8bbb1b55-45db-49ac-a3ef-026d59bbe39e\">\n",
              "    <div class=\"colab-df-container\">\n",
              "      <div>\n",
              "<style scoped>\n",
              "    .dataframe tbody tr th:only-of-type {\n",
              "        vertical-align: middle;\n",
              "    }\n",
              "\n",
              "    .dataframe tbody tr th {\n",
              "        vertical-align: top;\n",
              "    }\n",
              "\n",
              "    .dataframe thead th {\n",
              "        text-align: right;\n",
              "    }\n",
              "</style>\n",
              "<table border=\"1\" class=\"dataframe\">\n",
              "  <thead>\n",
              "    <tr style=\"text-align: right;\">\n",
              "      <th></th>\n",
              "      <th>ID</th>\n",
              "      <th>Customer_ID</th>\n",
              "      <th>Month</th>\n",
              "      <th>Age</th>\n",
              "      <th>SSN</th>\n",
              "      <th>Annual_Income</th>\n",
              "      <th>Monthly_Inhand_Salary</th>\n",
              "      <th>Num_Bank_Accounts</th>\n",
              "      <th>Num_Credit_Card</th>\n",
              "      <th>Interest_Rate</th>\n",
              "      <th>...</th>\n",
              "      <th>Delay_from_due_date</th>\n",
              "      <th>Num_of_Delayed_Payment</th>\n",
              "      <th>Changed_Credit_Limit</th>\n",
              "      <th>Num_Credit_Inquiries</th>\n",
              "      <th>Outstanding_Debt</th>\n",
              "      <th>Credit_Utilization_Ratio</th>\n",
              "      <th>Credit_History_Age</th>\n",
              "      <th>Total_EMI_per_month</th>\n",
              "      <th>Amount_invested_monthly</th>\n",
              "      <th>Monthly_Balance</th>\n",
              "    </tr>\n",
              "  </thead>\n",
              "  <tbody>\n",
              "    <tr>\n",
              "      <th>count</th>\n",
              "      <td>100000.000000</td>\n",
              "      <td>100000.000000</td>\n",
              "      <td>100000.000000</td>\n",
              "      <td>100000.000000</td>\n",
              "      <td>1.000000e+05</td>\n",
              "      <td>100000.000000</td>\n",
              "      <td>100000.000000</td>\n",
              "      <td>100000.000000</td>\n",
              "      <td>100000.000000</td>\n",
              "      <td>100000.00000</td>\n",
              "      <td>...</td>\n",
              "      <td>100000.00000</td>\n",
              "      <td>100000.000000</td>\n",
              "      <td>100000.000000</td>\n",
              "      <td>100000.000000</td>\n",
              "      <td>100000.000000</td>\n",
              "      <td>100000.000000</td>\n",
              "      <td>100000.000000</td>\n",
              "      <td>100000.000000</td>\n",
              "      <td>100000.000000</td>\n",
              "      <td>100000.000000</td>\n",
              "    </tr>\n",
              "    <tr>\n",
              "      <th>mean</th>\n",
              "      <td>80631.500000</td>\n",
              "      <td>25982.666640</td>\n",
              "      <td>4.500000</td>\n",
              "      <td>33.316340</td>\n",
              "      <td>5.004617e+08</td>\n",
              "      <td>50505.123449</td>\n",
              "      <td>4197.270835</td>\n",
              "      <td>5.368820</td>\n",
              "      <td>5.533570</td>\n",
              "      <td>14.53208</td>\n",
              "      <td>...</td>\n",
              "      <td>21.08141</td>\n",
              "      <td>13.313120</td>\n",
              "      <td>10.470323</td>\n",
              "      <td>5.798250</td>\n",
              "      <td>1426.220376</td>\n",
              "      <td>32.285173</td>\n",
              "      <td>221.220460</td>\n",
              "      <td>107.699208</td>\n",
              "      <td>55.101315</td>\n",
              "      <td>392.697586</td>\n",
              "    </tr>\n",
              "    <tr>\n",
              "      <th>std</th>\n",
              "      <td>43301.486619</td>\n",
              "      <td>14340.543051</td>\n",
              "      <td>2.291299</td>\n",
              "      <td>10.764812</td>\n",
              "      <td>2.908267e+08</td>\n",
              "      <td>38299.422093</td>\n",
              "      <td>3186.432497</td>\n",
              "      <td>2.593314</td>\n",
              "      <td>2.067098</td>\n",
              "      <td>8.74133</td>\n",
              "      <td>...</td>\n",
              "      <td>14.80456</td>\n",
              "      <td>6.237166</td>\n",
              "      <td>6.609481</td>\n",
              "      <td>3.867826</td>\n",
              "      <td>1155.129026</td>\n",
              "      <td>5.116875</td>\n",
              "      <td>99.680716</td>\n",
              "      <td>132.267056</td>\n",
              "      <td>39.006932</td>\n",
              "      <td>201.652719</td>\n",
              "    </tr>\n",
              "    <tr>\n",
              "      <th>min</th>\n",
              "      <td>5634.000000</td>\n",
              "      <td>1006.000000</td>\n",
              "      <td>1.000000</td>\n",
              "      <td>14.000000</td>\n",
              "      <td>8.134900e+04</td>\n",
              "      <td>7005.930000</td>\n",
              "      <td>303.645417</td>\n",
              "      <td>0.000000</td>\n",
              "      <td>0.000000</td>\n",
              "      <td>1.00000</td>\n",
              "      <td>...</td>\n",
              "      <td>0.00000</td>\n",
              "      <td>0.000000</td>\n",
              "      <td>0.500000</td>\n",
              "      <td>0.000000</td>\n",
              "      <td>0.230000</td>\n",
              "      <td>20.000000</td>\n",
              "      <td>1.000000</td>\n",
              "      <td>0.000000</td>\n",
              "      <td>0.000000</td>\n",
              "      <td>0.007760</td>\n",
              "    </tr>\n",
              "    <tr>\n",
              "      <th>25%</th>\n",
              "      <td>43132.750000</td>\n",
              "      <td>13664.500000</td>\n",
              "      <td>2.750000</td>\n",
              "      <td>24.000000</td>\n",
              "      <td>2.451686e+08</td>\n",
              "      <td>19342.972500</td>\n",
              "      <td>1626.594167</td>\n",
              "      <td>3.000000</td>\n",
              "      <td>4.000000</td>\n",
              "      <td>7.00000</td>\n",
              "      <td>...</td>\n",
              "      <td>10.00000</td>\n",
              "      <td>9.000000</td>\n",
              "      <td>5.380000</td>\n",
              "      <td>3.000000</td>\n",
              "      <td>566.072500</td>\n",
              "      <td>28.052567</td>\n",
              "      <td>144.000000</td>\n",
              "      <td>29.268886</td>\n",
              "      <td>27.959111</td>\n",
              "      <td>267.615983</td>\n",
              "    </tr>\n",
              "    <tr>\n",
              "      <th>50%</th>\n",
              "      <td>80631.500000</td>\n",
              "      <td>25777.000000</td>\n",
              "      <td>4.500000</td>\n",
              "      <td>33.000000</td>\n",
              "      <td>5.006886e+08</td>\n",
              "      <td>36999.705000</td>\n",
              "      <td>3095.905000</td>\n",
              "      <td>5.000000</td>\n",
              "      <td>5.000000</td>\n",
              "      <td>13.00000</td>\n",
              "      <td>...</td>\n",
              "      <td>18.00000</td>\n",
              "      <td>14.000000</td>\n",
              "      <td>9.400000</td>\n",
              "      <td>5.000000</td>\n",
              "      <td>1166.155000</td>\n",
              "      <td>32.305784</td>\n",
              "      <td>219.000000</td>\n",
              "      <td>66.462304</td>\n",
              "      <td>45.156550</td>\n",
              "      <td>333.865366</td>\n",
              "    </tr>\n",
              "    <tr>\n",
              "      <th>75%</th>\n",
              "      <td>118130.250000</td>\n",
              "      <td>38385.000000</td>\n",
              "      <td>6.250000</td>\n",
              "      <td>42.000000</td>\n",
              "      <td>7.560027e+08</td>\n",
              "      <td>71683.470000</td>\n",
              "      <td>5957.715000</td>\n",
              "      <td>7.000000</td>\n",
              "      <td>7.000000</td>\n",
              "      <td>20.00000</td>\n",
              "      <td>...</td>\n",
              "      <td>28.00000</td>\n",
              "      <td>18.000000</td>\n",
              "      <td>14.850000</td>\n",
              "      <td>8.000000</td>\n",
              "      <td>1945.962500</td>\n",
              "      <td>36.496663</td>\n",
              "      <td>302.000000</td>\n",
              "      <td>147.392573</td>\n",
              "      <td>71.295797</td>\n",
              "      <td>463.215683</td>\n",
              "    </tr>\n",
              "    <tr>\n",
              "      <th>max</th>\n",
              "      <td>155629.000000</td>\n",
              "      <td>50999.000000</td>\n",
              "      <td>8.000000</td>\n",
              "      <td>56.000000</td>\n",
              "      <td>9.999934e+08</td>\n",
              "      <td>179987.280000</td>\n",
              "      <td>15204.633330</td>\n",
              "      <td>11.000000</td>\n",
              "      <td>11.000000</td>\n",
              "      <td>34.00000</td>\n",
              "      <td>...</td>\n",
              "      <td>62.00000</td>\n",
              "      <td>25.000000</td>\n",
              "      <td>29.980000</td>\n",
              "      <td>17.000000</td>\n",
              "      <td>4998.070000</td>\n",
              "      <td>50.000000</td>\n",
              "      <td>404.000000</td>\n",
              "      <td>1779.103254</td>\n",
              "      <td>434.191089</td>\n",
              "      <td>1183.930696</td>\n",
              "    </tr>\n",
              "  </tbody>\n",
              "</table>\n",
              "<p>8 rows × 21 columns</p>\n",
              "</div>\n",
              "      <button class=\"colab-df-convert\" onclick=\"convertToInteractive('df-8bbb1b55-45db-49ac-a3ef-026d59bbe39e')\"\n",
              "              title=\"Convert this dataframe to an interactive table.\"\n",
              "              style=\"display:none;\">\n",
              "        \n",
              "  <svg xmlns=\"http://www.w3.org/2000/svg\" height=\"24px\"viewBox=\"0 0 24 24\"\n",
              "       width=\"24px\">\n",
              "    <path d=\"M0 0h24v24H0V0z\" fill=\"none\"/>\n",
              "    <path d=\"M18.56 5.44l.94 2.06.94-2.06 2.06-.94-2.06-.94-.94-2.06-.94 2.06-2.06.94zm-11 1L8.5 8.5l.94-2.06 2.06-.94-2.06-.94L8.5 2.5l-.94 2.06-2.06.94zm10 10l.94 2.06.94-2.06 2.06-.94-2.06-.94-.94-2.06-.94 2.06-2.06.94z\"/><path d=\"M17.41 7.96l-1.37-1.37c-.4-.4-.92-.59-1.43-.59-.52 0-1.04.2-1.43.59L10.3 9.45l-7.72 7.72c-.78.78-.78 2.05 0 2.83L4 21.41c.39.39.9.59 1.41.59.51 0 1.02-.2 1.41-.59l7.78-7.78 2.81-2.81c.8-.78.8-2.07 0-2.86zM5.41 20L4 18.59l7.72-7.72 1.47 1.35L5.41 20z\"/>\n",
              "  </svg>\n",
              "      </button>\n",
              "      \n",
              "  <style>\n",
              "    .colab-df-container {\n",
              "      display:flex;\n",
              "      flex-wrap:wrap;\n",
              "      gap: 12px;\n",
              "    }\n",
              "\n",
              "    .colab-df-convert {\n",
              "      background-color: #E8F0FE;\n",
              "      border: none;\n",
              "      border-radius: 50%;\n",
              "      cursor: pointer;\n",
              "      display: none;\n",
              "      fill: #1967D2;\n",
              "      height: 32px;\n",
              "      padding: 0 0 0 0;\n",
              "      width: 32px;\n",
              "    }\n",
              "\n",
              "    .colab-df-convert:hover {\n",
              "      background-color: #E2EBFA;\n",
              "      box-shadow: 0px 1px 2px rgba(60, 64, 67, 0.3), 0px 1px 3px 1px rgba(60, 64, 67, 0.15);\n",
              "      fill: #174EA6;\n",
              "    }\n",
              "\n",
              "    [theme=dark] .colab-df-convert {\n",
              "      background-color: #3B4455;\n",
              "      fill: #D2E3FC;\n",
              "    }\n",
              "\n",
              "    [theme=dark] .colab-df-convert:hover {\n",
              "      background-color: #434B5C;\n",
              "      box-shadow: 0px 1px 3px 1px rgba(0, 0, 0, 0.15);\n",
              "      filter: drop-shadow(0px 1px 2px rgba(0, 0, 0, 0.3));\n",
              "      fill: #FFFFFF;\n",
              "    }\n",
              "  </style>\n",
              "\n",
              "      <script>\n",
              "        const buttonEl =\n",
              "          document.querySelector('#df-8bbb1b55-45db-49ac-a3ef-026d59bbe39e button.colab-df-convert');\n",
              "        buttonEl.style.display =\n",
              "          google.colab.kernel.accessAllowed ? 'block' : 'none';\n",
              "\n",
              "        async function convertToInteractive(key) {\n",
              "          const element = document.querySelector('#df-8bbb1b55-45db-49ac-a3ef-026d59bbe39e');\n",
              "          const dataTable =\n",
              "            await google.colab.kernel.invokeFunction('convertToInteractive',\n",
              "                                                     [key], {});\n",
              "          if (!dataTable) return;\n",
              "\n",
              "          const docLinkHtml = 'Like what you see? Visit the ' +\n",
              "            '<a target=\"_blank\" href=https://colab.research.google.com/notebooks/data_table.ipynb>data table notebook</a>'\n",
              "            + ' to learn more about interactive tables.';\n",
              "          element.innerHTML = '';\n",
              "          dataTable['output_type'] = 'display_data';\n",
              "          await google.colab.output.renderOutput(dataTable, element);\n",
              "          const docLink = document.createElement('div');\n",
              "          docLink.innerHTML = docLinkHtml;\n",
              "          element.appendChild(docLink);\n",
              "        }\n",
              "      </script>\n",
              "    </div>\n",
              "  </div>\n",
              "  "
            ]
          },
          "metadata": {},
          "execution_count": 6
        }
      ]
    },
    {
      "cell_type": "code",
      "source": [
        "#As some of the columns doesn't affect much I have dropped Name column as it is coinciding with ID column\n",
        "data1=data.dropna()\n",
        "data1red=data1.drop(columns=['Credit_Score','Name'])\n",
        "data1red.shape"
      ],
      "metadata": {
        "id": "eXTaaSEwbkiB",
        "colab": {
          "base_uri": "https://localhost:8080/"
        },
        "outputId": "b80b71b3-1473-4b82-ca30-ef9ff59be326"
      },
      "execution_count": 63,
      "outputs": [
        {
          "output_type": "execute_result",
          "data": {
            "text/plain": [
              "(100000, 26)"
            ]
          },
          "metadata": {},
          "execution_count": 63
        }
      ]
    },
    {
      "cell_type": "code",
      "source": [
        "data1.shape"
      ],
      "metadata": {
        "id": "fwJsPYwbbqK2",
        "colab": {
          "base_uri": "https://localhost:8080/"
        },
        "outputId": "4d2376d7-dba7-49fd-bdc2-5548137d60a6"
      },
      "execution_count": 64,
      "outputs": [
        {
          "output_type": "execute_result",
          "data": {
            "text/plain": [
              "(100000, 28)"
            ]
          },
          "metadata": {},
          "execution_count": 64
        }
      ]
    },
    {
      "cell_type": "code",
      "source": [
        "fq=data1red.groupby('Type_of_Loan').size()/len(data1red)\n",
        "data1red.loc[:,'T_L_freq_encode']=data1red['Type_of_Loan'].map(fq)\n",
        "data1red=data1red.drop(['Type_of_Loan'],axis=1)\n",
        "data1red.shape"
      ],
      "metadata": {
        "colab": {
          "base_uri": "https://localhost:8080/"
        },
        "id": "FNzlFbFkqbPA",
        "outputId": "f05daea9-a5a4-45e1-9428-c1ee515c1aa6"
      },
      "execution_count": 65,
      "outputs": [
        {
          "output_type": "execute_result",
          "data": {
            "text/plain": [
              "(100000, 26)"
            ]
          },
          "metadata": {},
          "execution_count": 65
        }
      ]
    },
    {
      "cell_type": "code",
      "source": [
        "import seaborn as sns\n",
        "import matplotlib.pyplot as plt"
      ],
      "metadata": {
        "id": "0ZWxGWsQbsPF"
      },
      "execution_count": 66,
      "outputs": []
    },
    {
      "cell_type": "code",
      "source": [
        "#correlation between features\n",
        "plt.figure(figsize=(12,10))\n",
        "sns.heatmap(data1red.corr())"
      ],
      "metadata": {
        "id": "CNC6zstOb7Jg",
        "colab": {
          "base_uri": "https://localhost:8080/",
          "height": 736
        },
        "outputId": "9c1efafa-0e9e-4181-a9a2-b18cb21a8a26"
      },
      "execution_count": 67,
      "outputs": [
        {
          "output_type": "execute_result",
          "data": {
            "text/plain": [
              "<matplotlib.axes._subplots.AxesSubplot at 0x7f8332f73f90>"
            ]
          },
          "metadata": {},
          "execution_count": 67
        },
        {
          "output_type": "display_data",
          "data": {
            "text/plain": [
              "<Figure size 864x720 with 2 Axes>"
            ],
            "image/png": "[encoded data removed]"
          },
          "metadata": {
            "needs_background": "light"
          }
        }
      ]
    },
    {
      "cell_type": "code",
      "source": [
        "#Dropping this column as it is highly correlated to Annual Income\n",
        "data1red=data1red.drop(columns=['Monthly_Inhand_Salary'])"
      ],
      "metadata": {
        "id": "kYQzpeoX0HRi"
      },
      "execution_count": 68,
      "outputs": []
    },
    {
      "cell_type": "code",
      "source": [
        "#encoding the remaining categorical data for independent variables\n",
        "dataenc=pd.get_dummies(data=data1red,columns=['Occupation','Credit_Mix','Payment_of_Min_Amount','Payment_Behaviour'])\n",
        "dataenc"
      ],
      "metadata": {
        "id": "W2iD2Ef6b-ca",
        "colab": {
          "base_uri": "https://localhost:8080/",
          "height": 488
        },
        "outputId": "27eb5484-437d-4b7c-f9d7-262faa632b59"
      },
      "execution_count": 69,
      "outputs": [
        {
          "output_type": "execute_result",
          "data": {
            "text/plain": [
              "           ID  Customer_ID  Month  Age        SSN  Annual_Income  \\\n",
              "0        5634         3392      1   23  821000265       19114.12   \n",
              "1        5635         3392      2   23  821000265       19114.12   \n",
              "2        5636         3392      3   23  821000265       19114.12   \n",
              "3        5637         3392      4   23  821000265       19114.12   \n",
              "4        5638         3392      5   23  821000265       19114.12   \n",
              "...       ...          ...    ...  ...        ...            ...   \n",
              "99995  155625        37932      4   25   78735990       39628.99   \n",
              "99996  155626        37932      5   25   78735990       39628.99   \n",
              "99997  155627        37932      6   25   78735990       39628.99   \n",
              "99998  155628        37932      7   25   78735990       39628.99   \n",
              "99999  155629        37932      8   25   78735990       39628.99   \n",
              "\n",
              "       Num_Bank_Accounts  Num_Credit_Card  Interest_Rate  Num_of_Loan  ...  \\\n",
              "0                      3                4              3            4  ...   \n",
              "1                      3                4              3            4  ...   \n",
              "2                      3                4              3            4  ...   \n",
              "3                      3                4              3            4  ...   \n",
              "4                      3                4              3            4  ...   \n",
              "...                  ...              ...            ...          ...  ...   \n",
              "99995                  4                6              7            2  ...   \n",
              "99996                  4                6              7            2  ...   \n",
              "99997                  4                6              7            2  ...   \n",
              "99998                  4                6              7            2  ...   \n",
              "99999                  4                6              7            2  ...   \n",
              "\n",
              "       Credit_Mix_Standard  Payment_of_Min_Amount_NM  \\\n",
              "0                        0                         0   \n",
              "1                        0                         0   \n",
              "2                        0                         0   \n",
              "3                        0                         0   \n",
              "4                        0                         0   \n",
              "...                    ...                       ...   \n",
              "99995                    0                         0   \n",
              "99996                    0                         0   \n",
              "99997                    0                         0   \n",
              "99998                    0                         0   \n",
              "99999                    0                         0   \n",
              "\n",
              "       Payment_of_Min_Amount_No  Payment_of_Min_Amount_Yes  \\\n",
              "0                             1                          0   \n",
              "1                             1                          0   \n",
              "2                             1                          0   \n",
              "3                             1                          0   \n",
              "4                             1                          0   \n",
              "...                         ...                        ...   \n",
              "99995                         1                          0   \n",
              "99996                         1                          0   \n",
              "99997                         1                          0   \n",
              "99998                         1                          0   \n",
              "99999                         1                          0   \n",
              "\n",
              "       Payment_Behaviour_High_spent_Large_value_payments  \\\n",
              "0                                                      0   \n",
              "1                                                      0   \n",
              "2                                                      0   \n",
              "3                                                      0   \n",
              "4                                                      0   \n",
              "...                                                  ...   \n",
              "99995                                                  1   \n",
              "99996                                                  0   \n",
              "99997                                                  1   \n",
              "99998                                                  0   \n",
              "99999                                                  0   \n",
              "\n",
              "       Payment_Behaviour_High_spent_Medium_value_payments  \\\n",
              "0                                                      0    \n",
              "1                                                      0    \n",
              "2                                                      0    \n",
              "3                                                      0    \n",
              "4                                                      1    \n",
              "...                                                  ...    \n",
              "99995                                                  0    \n",
              "99996                                                  1    \n",
              "99997                                                  0    \n",
              "99998                                                  0    \n",
              "99999                                                  1    \n",
              "\n",
              "       Payment_Behaviour_High_spent_Small_value_payments  \\\n",
              "0                                                      1   \n",
              "1                                                      0   \n",
              "2                                                      0   \n",
              "3                                                      0   \n",
              "4                                                      0   \n",
              "...                                                  ...   \n",
              "99995                                                  0   \n",
              "99996                                                  0   \n",
              "99997                                                  0   \n",
              "99998                                                  0   \n",
              "99999                                                  0   \n",
              "\n",
              "       Payment_Behaviour_Low_spent_Large_value_payments  \\\n",
              "0                                                     0   \n",
              "1                                                     1   \n",
              "2                                                     0   \n",
              "3                                                     0   \n",
              "4                                                     0   \n",
              "...                                                 ...   \n",
              "99995                                                 0   \n",
              "99996                                                 0   \n",
              "99997                                                 0   \n",
              "99998                                                 1   \n",
              "99999                                                 0   \n",
              "\n",
              "       Payment_Behaviour_Low_spent_Medium_value_payments  \\\n",
              "0                                                      0   \n",
              "1                                                      0   \n",
              "2                                                      1   \n",
              "3                                                      0   \n",
              "4                                                      0   \n",
              "...                                                  ...   \n",
              "99995                                                  0   \n",
              "99996                                                  0   \n",
              "99997                                                  0   \n",
              "99998                                                  0   \n",
              "99999                                                  0   \n",
              "\n",
              "       Payment_Behaviour_Low_spent_Small_value_payments  \n",
              "0                                                     0  \n",
              "1                                                     0  \n",
              "2                                                     0  \n",
              "3                                                     1  \n",
              "4                                                     0  \n",
              "...                                                 ...  \n",
              "99995                                                 0  \n",
              "99996                                                 0  \n",
              "99997                                                 0  \n",
              "99998                                                 0  \n",
              "99999                                                 0  \n",
              "\n",
              "[100000 rows x 48 columns]"
            ],
            "text/html": [
              "\n",
              "  <div id=\"df-e8ab0c4a-22d4-49bf-b694-5e7f57cdbb74\">\n",
              "    <div class=\"colab-df-container\">\n",
              "      <div>\n",
              "<style scoped>\n",
              "    .dataframe tbody tr th:only-of-type {\n",
              "        vertical-align: middle;\n",
              "    }\n",
              "\n",
              "    .dataframe tbody tr th {\n",
              "        vertical-align: top;\n",
              "    }\n",
              "\n",
              "    .dataframe thead th {\n",
              "        text-align: right;\n",
              "    }\n",
              "</style>\n",
              "<table border=\"1\" class=\"dataframe\">\n",
              "  <thead>\n",
              "    <tr style=\"text-align: right;\">\n",
              "      <th></th>\n",
              "      <th>ID</th>\n",
              "      <th>Customer_ID</th>\n",
              "      <th>Month</th>\n",
              "      <th>Age</th>\n",
              "      <th>SSN</th>\n",
              "      <th>Annual_Income</th>\n",
              "      <th>Num_Bank_Accounts</th>\n",
              "      <th>Num_Credit_Card</th>\n",
              "      <th>Interest_Rate</th>\n",
              "      <th>Num_of_Loan</th>\n",
              "      <th>...</th>\n",
              "      <th>Credit_Mix_Standard</th>\n",
              "      <th>Payment_of_Min_Amount_NM</th>\n",
              "      <th>Payment_of_Min_Amount_No</th>\n",
              "      <th>Payment_of_Min_Amount_Yes</th>\n",
              "      <th>Payment_Behaviour_High_spent_Large_value_payments</th>\n",
              "      <th>Payment_Behaviour_High_spent_Medium_value_payments</th>\n",
              "      <th>Payment_Behaviour_High_spent_Small_value_payments</th>\n",
              "      <th>Payment_Behaviour_Low_spent_Large_value_payments</th>\n",
              "      <th>Payment_Behaviour_Low_spent_Medium_value_payments</th>\n",
              "      <th>Payment_Behaviour_Low_spent_Small_value_payments</th>\n",
              "    </tr>\n",
              "  </thead>\n",
              "  <tbody>\n",
              "    <tr>\n",
              "      <th>0</th>\n",
              "      <td>5634</td>\n",
              "      <td>3392</td>\n",
              "      <td>1</td>\n",
              "      <td>23</td>\n",
              "      <td>821000265</td>\n",
              "      <td>19114.12</td>\n",
              "      <td>3</td>\n",
              "      <td>4</td>\n",
              "      <td>3</td>\n",
              "      <td>4</td>\n",
              "      <td>...</td>\n",
              "      <td>0</td>\n",
              "      <td>0</td>\n",
              "      <td>1</td>\n",
              "      <td>0</td>\n",
              "      <td>0</td>\n",
              "      <td>0</td>\n",
              "      <td>1</td>\n",
              "      <td>0</td>\n",
              "      <td>0</td>\n",
              "      <td>0</td>\n",
              "    </tr>\n",
              "    <tr>\n",
              "      <th>1</th>\n",
              "      <td>5635</td>\n",
              "      <td>3392</td>\n",
              "      <td>2</td>\n",
              "      <td>23</td>\n",
              "      <td>821000265</td>\n",
              "      <td>19114.12</td>\n",
              "      <td>3</td>\n",
              "      <td>4</td>\n",
              "      <td>3</td>\n",
              "      <td>4</td>\n",
              "      <td>...</td>\n",
              "      <td>0</td>\n",
              "      <td>0</td>\n",
              "      <td>1</td>\n",
              "      <td>0</td>\n",
              "      <td>0</td>\n",
              "      <td>0</td>\n",
              "      <td>0</td>\n",
              "      <td>1</td>\n",
              "      <td>0</td>\n",
              "      <td>0</td>\n",
              "    </tr>\n",
              "    <tr>\n",
              "      <th>2</th>\n",
              "      <td>5636</td>\n",
              "      <td>3392</td>\n",
              "      <td>3</td>\n",
              "      <td>23</td>\n",
              "      <td>821000265</td>\n",
              "      <td>19114.12</td>\n",
              "      <td>3</td>\n",
              "      <td>4</td>\n",
              "      <td>3</td>\n",
              "      <td>4</td>\n",
              "      <td>...</td>\n",
              "      <td>0</td>\n",
              "      <td>0</td>\n",
              "      <td>1</td>\n",
              "      <td>0</td>\n",
              "      <td>0</td>\n",
              "      <td>0</td>\n",
              "      <td>0</td>\n",
              "      <td>0</td>\n",
              "      <td>1</td>\n",
              "      <td>0</td>\n",
              "    </tr>\n",
              "    <tr>\n",
              "      <th>3</th>\n",
              "      <td>5637</td>\n",
              "      <td>3392</td>\n",
              "      <td>4</td>\n",
              "      <td>23</td>\n",
              "      <td>821000265</td>\n",
              "      <td>19114.12</td>\n",
              "      <td>3</td>\n",
              "      <td>4</td>\n",
              "      <td>3</td>\n",
              "      <td>4</td>\n",
              "      <td>...</td>\n",
              "      <td>0</td>\n",
              "      <td>0</td>\n",
              "      <td>1</td>\n",
              "      <td>0</td>\n",
              "      <td>0</td>\n",
              "      <td>0</td>\n",
              "      <td>0</td>\n",
              "      <td>0</td>\n",
              "      <td>0</td>\n",
              "      <td>1</td>\n",
              "    </tr>\n",
              "    <tr>\n",
              "      <th>4</th>\n",
              "      <td>5638</td>\n",
              "      <td>3392</td>\n",
              "      <td>5</td>\n",
              "      <td>23</td>\n",
              "      <td>821000265</td>\n",
              "      <td>19114.12</td>\n",
              "      <td>3</td>\n",
              "      <td>4</td>\n",
              "      <td>3</td>\n",
              "      <td>4</td>\n",
              "      <td>...</td>\n",
              "      <td>0</td>\n",
              "      <td>0</td>\n",
              "      <td>1</td>\n",
              "      <td>0</td>\n",
              "      <td>0</td>\n",
              "      <td>1</td>\n",
              "      <td>0</td>\n",
              "      <td>0</td>\n",
              "      <td>0</td>\n",
              "      <td>0</td>\n",
              "    </tr>\n",
              "    <tr>\n",
              "      <th>...</th>\n",
              "      <td>...</td>\n",
              "      <td>...</td>\n",
              "      <td>...</td>\n",
              "      <td>...</td>\n",
              "      <td>...</td>\n",
              "      <td>...</td>\n",
              "      <td>...</td>\n",
              "      <td>...</td>\n",
              "      <td>...</td>\n",
              "      <td>...</td>\n",
              "      <td>...</td>\n",
              "      <td>...</td>\n",
              "      <td>...</td>\n",
              "      <td>...</td>\n",
              "      <td>...</td>\n",
              "      <td>...</td>\n",
              "      <td>...</td>\n",
              "      <td>...</td>\n",
              "      <td>...</td>\n",
              "      <td>...</td>\n",
              "      <td>...</td>\n",
              "    </tr>\n",
              "    <tr>\n",
              "      <th>99995</th>\n",
              "      <td>155625</td>\n",
              "      <td>37932</td>\n",
              "      <td>4</td>\n",
              "      <td>25</td>\n",
              "      <td>78735990</td>\n",
              "      <td>39628.99</td>\n",
              "      <td>4</td>\n",
              "      <td>6</td>\n",
              "      <td>7</td>\n",
              "      <td>2</td>\n",
              "      <td>...</td>\n",
              "      <td>0</td>\n",
              "      <td>0</td>\n",
              "      <td>1</td>\n",
              "      <td>0</td>\n",
              "      <td>1</td>\n",
              "      <td>0</td>\n",
              "      <td>0</td>\n",
              "      <td>0</td>\n",
              "      <td>0</td>\n",
              "      <td>0</td>\n",
              "    </tr>\n",
              "    <tr>\n",
              "      <th>99996</th>\n",
              "      <td>155626</td>\n",
              "      <td>37932</td>\n",
              "      <td>5</td>\n",
              "      <td>25</td>\n",
              "      <td>78735990</td>\n",
              "      <td>39628.99</td>\n",
              "      <td>4</td>\n",
              "      <td>6</td>\n",
              "      <td>7</td>\n",
              "      <td>2</td>\n",
              "      <td>...</td>\n",
              "      <td>0</td>\n",
              "      <td>0</td>\n",
              "      <td>1</td>\n",
              "      <td>0</td>\n",
              "      <td>0</td>\n",
              "      <td>1</td>\n",
              "      <td>0</td>\n",
              "      <td>0</td>\n",
              "      <td>0</td>\n",
              "      <td>0</td>\n",
              "    </tr>\n",
              "    <tr>\n",
              "      <th>99997</th>\n",
              "      <td>155627</td>\n",
              "      <td>37932</td>\n",
              "      <td>6</td>\n",
              "      <td>25</td>\n",
              "      <td>78735990</td>\n",
              "      <td>39628.99</td>\n",
              "      <td>4</td>\n",
              "      <td>6</td>\n",
              "      <td>7</td>\n",
              "      <td>2</td>\n",
              "      <td>...</td>\n",
              "      <td>0</td>\n",
              "      <td>0</td>\n",
              "      <td>1</td>\n",
              "      <td>0</td>\n",
              "      <td>1</td>\n",
              "      <td>0</td>\n",
              "      <td>0</td>\n",
              "      <td>0</td>\n",
              "      <td>0</td>\n",
              "      <td>0</td>\n",
              "    </tr>\n",
              "    <tr>\n",
              "      <th>99998</th>\n",
              "      <td>155628</td>\n",
              "      <td>37932</td>\n",
              "      <td>7</td>\n",
              "      <td>25</td>\n",
              "      <td>78735990</td>\n",
              "      <td>39628.99</td>\n",
              "      <td>4</td>\n",
              "      <td>6</td>\n",
              "      <td>7</td>\n",
              "      <td>2</td>\n",
              "      <td>...</td>\n",
              "      <td>0</td>\n",
              "      <td>0</td>\n",
              "      <td>1</td>\n",
              "      <td>0</td>\n",
              "      <td>0</td>\n",
              "      <td>0</td>\n",
              "      <td>0</td>\n",
              "      <td>1</td>\n",
              "      <td>0</td>\n",
              "      <td>0</td>\n",
              "    </tr>\n",
              "    <tr>\n",
              "      <th>99999</th>\n",
              "      <td>155629</td>\n",
              "      <td>37932</td>\n",
              "      <td>8</td>\n",
              "      <td>25</td>\n",
              "      <td>78735990</td>\n",
              "      <td>39628.99</td>\n",
              "      <td>4</td>\n",
              "      <td>6</td>\n",
              "      <td>7</td>\n",
              "      <td>2</td>\n",
              "      <td>...</td>\n",
              "      <td>0</td>\n",
              "      <td>0</td>\n",
              "      <td>1</td>\n",
              "      <td>0</td>\n",
              "      <td>0</td>\n",
              "      <td>1</td>\n",
              "      <td>0</td>\n",
              "      <td>0</td>\n",
              "      <td>0</td>\n",
              "      <td>0</td>\n",
              "    </tr>\n",
              "  </tbody>\n",
              "</table>\n",
              "<p>100000 rows × 48 columns</p>\n",
              "</div>\n",
              "      <button class=\"colab-df-convert\" onclick=\"convertToInteractive('df-e8ab0c4a-22d4-49bf-b694-5e7f57cdbb74')\"\n",
              "              title=\"Convert this dataframe to an interactive table.\"\n",
              "              style=\"display:none;\">\n",
              "        \n",
              "  <svg xmlns=\"http://www.w3.org/2000/svg\" height=\"24px\"viewBox=\"0 0 24 24\"\n",
              "       width=\"24px\">\n",
              "    <path d=\"M0 0h24v24H0V0z\" fill=\"none\"/>\n",
              "    <path d=\"M18.56 5.44l.94 2.06.94-2.06 2.06-.94-2.06-.94-.94-2.06-.94 2.06-2.06.94zm-11 1L8.5 8.5l.94-2.06 2.06-.94-2.06-.94L8.5 2.5l-.94 2.06-2.06.94zm10 10l.94 2.06.94-2.06 2.06-.94-2.06-.94-.94-2.06-.94 2.06-2.06.94z\"/><path d=\"M17.41 7.96l-1.37-1.37c-.4-.4-.92-.59-1.43-.59-.52 0-1.04.2-1.43.59L10.3 9.45l-7.72 7.72c-.78.78-.78 2.05 0 2.83L4 21.41c.39.39.9.59 1.41.59.51 0 1.02-.2 1.41-.59l7.78-7.78 2.81-2.81c.8-.78.8-2.07 0-2.86zM5.41 20L4 18.59l7.72-7.72 1.47 1.35L5.41 20z\"/>\n",
              "  </svg>\n",
              "      </button>\n",
              "      \n",
              "  <style>\n",
              "    .colab-df-container {\n",
              "      display:flex;\n",
              "      flex-wrap:wrap;\n",
              "      gap: 12px;\n",
              "    }\n",
              "\n",
              "    .colab-df-convert {\n",
              "      background-color: #E8F0FE;\n",
              "      border: none;\n",
              "      border-radius: 50%;\n",
              "      cursor: pointer;\n",
              "      display: none;\n",
              "      fill: #1967D2;\n",
              "      height: 32px;\n",
              "      padding: 0 0 0 0;\n",
              "      width: 32px;\n",
              "    }\n",
              "\n",
              "    .colab-df-convert:hover {\n",
              "      background-color: #E2EBFA;\n",
              "      box-shadow: 0px 1px 2px rgba(60, 64, 67, 0.3), 0px 1px 3px 1px rgba(60, 64, 67, 0.15);\n",
              "      fill: #174EA6;\n",
              "    }\n",
              "\n",
              "    [theme=dark] .colab-df-convert {\n",
              "      background-color: #3B4455;\n",
              "      fill: #D2E3FC;\n",
              "    }\n",
              "\n",
              "    [theme=dark] .colab-df-convert:hover {\n",
              "      background-color: #434B5C;\n",
              "      box-shadow: 0px 1px 3px 1px rgba(0, 0, 0, 0.15);\n",
              "      filter: drop-shadow(0px 1px 2px rgba(0, 0, 0, 0.3));\n",
              "      fill: #FFFFFF;\n",
              "    }\n",
              "  </style>\n",
              "\n",
              "      <script>\n",
              "        const buttonEl =\n",
              "          document.querySelector('#df-e8ab0c4a-22d4-49bf-b694-5e7f57cdbb74 button.colab-df-convert');\n",
              "        buttonEl.style.display =\n",
              "          google.colab.kernel.accessAllowed ? 'block' : 'none';\n",
              "\n",
              "        async function convertToInteractive(key) {\n",
              "          const element = document.querySelector('#df-e8ab0c4a-22d4-49bf-b694-5e7f57cdbb74');\n",
              "          const dataTable =\n",
              "            await google.colab.kernel.invokeFunction('convertToInteractive',\n",
              "                                                     [key], {});\n",
              "          if (!dataTable) return;\n",
              "\n",
              "          const docLinkHtml = 'Like what you see? Visit the ' +\n",
              "            '<a target=\"_blank\" href=https://colab.research.google.com/notebooks/data_table.ipynb>data table notebook</a>'\n",
              "            + ' to learn more about interactive tables.';\n",
              "          element.innerHTML = '';\n",
              "          dataTable['output_type'] = 'display_data';\n",
              "          await google.colab.output.renderOutput(dataTable, element);\n",
              "          const docLink = document.createElement('div');\n",
              "          docLink.innerHTML = docLinkHtml;\n",
              "          element.appendChild(docLink);\n",
              "        }\n",
              "      </script>\n",
              "    </div>\n",
              "  </div>\n",
              "  "
            ]
          },
          "metadata": {},
          "execution_count": 69
        }
      ]
    },
    {
      "cell_type": "code",
      "source": [
        "x=dataenc.iloc[:,:].values\n",
        "x.shape"
      ],
      "metadata": {
        "id": "_krwfkbFckOP",
        "colab": {
          "base_uri": "https://localhost:8080/"
        },
        "outputId": "3e07c3fd-a36c-4897-8058-0a823c6dfd42"
      },
      "execution_count": 70,
      "outputs": [
        {
          "output_type": "execute_result",
          "data": {
            "text/plain": [
              "(100000, 48)"
            ]
          },
          "metadata": {},
          "execution_count": 70
        }
      ]
    },
    {
      "cell_type": "code",
      "source": [
        "\n",
        "y=data1.iloc[:,27].values\n",
        "y"
      ],
      "metadata": {
        "id": "cqkbbqv_dZmf",
        "colab": {
          "base_uri": "https://localhost:8080/"
        },
        "outputId": "c3003291-991e-4caa-cd9c-c67d278727c9"
      },
      "execution_count": 71,
      "outputs": [
        {
          "output_type": "execute_result",
          "data": {
            "text/plain": [
              "array(['Good', 'Good', 'Good', ..., 'Poor', 'Standard', 'Poor'],\n",
              "      dtype=object)"
            ]
          },
          "metadata": {},
          "execution_count": 71
        }
      ]
    },
    {
      "cell_type": "code",
      "source": [
        "from sklearn.preprocessing import OneHotEncoder,LabelEncoder\n",
        "from sklearn.compose import ColumnTransformer,make_column_transformer"
      ],
      "metadata": {
        "id": "QL7dhlbCdfhR"
      },
      "execution_count": 72,
      "outputs": []
    },
    {
      "cell_type": "code",
      "source": [
        "#encoding the categorical data in dependent variable\n",
        "le=LabelEncoder()\n",
        "y=le.fit_transform(y)\n",
        "y"
      ],
      "metadata": {
        "id": "_LHOZSKfd789",
        "colab": {
          "base_uri": "https://localhost:8080/"
        },
        "outputId": "4ed0045a-0957-41a2-a063-9b0d91ef6f77"
      },
      "execution_count": 73,
      "outputs": [
        {
          "output_type": "execute_result",
          "data": {
            "text/plain": [
              "array([0, 0, 0, ..., 1, 2, 1])"
            ]
          },
          "metadata": {},
          "execution_count": 73
        }
      ]
    },
    {
      "cell_type": "code",
      "source": [
        "#Dividing data into training and testing\n",
        "from sklearn.model_selection import train_test_split\n",
        "x_train,x_test,y_train,y_test=train_test_split(x,y,test_size=0.2,random_state=0)"
      ],
      "metadata": {
        "id": "hULr8yFEfhMK"
      },
      "execution_count": 74,
      "outputs": []
    },
    {
      "cell_type": "code",
      "source": [
        "#Feature Scaling\n",
        "from sklearn.preprocessing import StandardScaler\n",
        "sc=StandardScaler()\n",
        "x_train=sc.fit_transform(x_train)\n",
        "x_test=sc.transform(x_test)"
      ],
      "metadata": {
        "id": "Q8mBGVx15ebc"
      },
      "execution_count": 75,
      "outputs": []
    },
    {
      "cell_type": "code",
      "source": [
        "#Logistic Regression\n",
        "from sklearn.linear_model import LogisticRegression\n",
        "classifier1 = LogisticRegression(max_iter=1000,random_state = 0)\n",
        "classifier1.fit(x_train, y_train)\n",
        "y_pred = classifier1.predict(x_test)\n",
        "# Making the Confusion Matrix\n",
        "from sklearn.metrics import confusion_matrix, plot_confusion_matrix\n",
        "cm = confusion_matrix(y_test, y_pred)\n",
        "print(cm)\n",
        "trainaccuracy=classifier1.score(x_train, y_train)\n",
        "\n",
        "testaccuracy = classifier1.score(x_test, y_test)\n",
        "print(\"Test accuracy from logistic regression\\t\", testaccuracy)\n",
        "print(\"Train accuracy from logistic regression\\t\", trainaccuracy)"
      ],
      "metadata": {
        "id": "AS9siM5mf80Q",
        "colab": {
          "base_uri": "https://localhost:8080/"
        },
        "outputId": "ece8966c-cb21-4389-cc99-1c488897db19"
      },
      "execution_count": 76,
      "outputs": [
        {
          "output_type": "stream",
          "name": "stdout",
          "text": [
            "[[2329   87 1173]\n",
            " [ 508 3168 2150]\n",
            " [1444 1460 7681]]\n",
            "Test accuracy from logistic regression\t 0.6589\n",
            "Train accuracy from logistic regression\t 0.6631625\n"
          ]
        }
      ]
    },
    {
      "cell_type": "code",
      "source": [
        "l=[500,300,100,200,50,5]\n",
        "#KNN with different K values"
      ],
      "metadata": {
        "id": "WCpDY8PZ9thZ"
      },
      "execution_count": 77,
      "outputs": []
    },
    {
      "cell_type": "code",
      "source": [
        "from sklearn.neighbors import KNeighborsClassifier\n",
        "\n",
        "classifier2 = KNeighborsClassifier(n_neighbors = 500, metric = 'minkowski', p = 2)\n",
        "  #Euclidean matrix is used.\n",
        "classifier2.fit(x_train, y_train)\n",
        "  # Predicting the Test set results\n",
        "y_pred1 = classifier2.predict(x_test)\n",
        "print(y_pred1)\n",
        "knntestaccuracy1 = classifier2.score(x_test, y_test)\n",
        "#knntrainaccuracy1 = classifier2.score(x_train, y_train)\n",
        "cm1 = confusion_matrix(y_test, y_pred1)\n",
        " \n",
        "print(\"Test Model accuracy\", knntestaccuracy1)\n",
        "#print(\"Train Model accuracy\", knntrainaccuracy1)\n",
        "print(\"Confusion matrix\\n\", cm1)"
      ],
      "metadata": {
        "id": "JRr0PDEey18q",
        "colab": {
          "base_uri": "https://localhost:8080/"
        },
        "outputId": "ff2dbf73-96e3-4f23-ccfe-1caa35314e57"
      },
      "execution_count": 78,
      "outputs": [
        {
          "output_type": "stream",
          "name": "stdout",
          "text": [
            "[1 1 2 ... 0 2 0]\n",
            "Test Model accuracy 0.64085\n",
            "Confusion matrix\n",
            " [[1971   50 1568]\n",
            " [ 488 3134 2204]\n",
            " [1247 1626 7712]]\n"
          ]
        }
      ]
    },
    {
      "cell_type": "code",
      "source": [
        "from sklearn.neighbors import KNeighborsClassifier\n",
        "\n",
        "classifier5 = KNeighborsClassifier(n_neighbors = 300, metric = 'minkowski', p = 2)\n",
        "  #Euclidean matrix is used.\n",
        "classifier5.fit(x_train, y_train)\n",
        "  # Predicting the Test set results\n",
        "y_pred2 = classifier5.predict(x_test)\n",
        "print(y_pred2)\n",
        "knntestaccuracy2 = classifier5.score(x_test, y_test)\n",
        "cm2 = confusion_matrix(y_test, y_pred2)\n",
        " \n",
        "print(\"TEST Model accuracy\", knntestaccuracy2)\n",
        "\n",
        "print(\"Confusion matrix\\n\", cm2)"
      ],
      "metadata": {
        "id": "GAJ5OqF98ioM",
        "colab": {
          "base_uri": "https://localhost:8080/"
        },
        "outputId": "ca8ad87f-0eda-4504-f59f-472bed3f2e12"
      },
      "execution_count": 79,
      "outputs": [
        {
          "output_type": "stream",
          "name": "stdout",
          "text": [
            "[1 1 0 ... 2 2 0]\n",
            "TEST Model accuracy 0.65075\n",
            "Confusion matrix\n",
            " [[2229   40 1320]\n",
            " [ 571 3141 2114]\n",
            " [1420 1520 7645]]\n"
          ]
        }
      ]
    },
    {
      "cell_type": "code",
      "source": [
        "from sklearn.neighbors import KNeighborsClassifier\n",
        "\n",
        "classifier3 = KNeighborsClassifier(n_neighbors = 200, metric = 'minkowski', p = 2)\n",
        "  #Euclidean matrix is used.\n",
        "classifier3.fit(x_train, y_train)\n",
        "  # Predicting the Test set results\n",
        "y_pred3 = classifier3.predict(x_test)\n",
        "print(y_pred3)\n",
        "knntestaccuracy3 = classifier3.score(x_test, y_test)\n",
        "#knntrainaccuracy3 = classifier3.score(x_train, y_train)\n",
        "cm3 = confusion_matrix(y_test, y_pred3)\n",
        " \n",
        "print(\"Test Model accuracy\", knntestaccuracy3)\n",
        "#print(\"Train Model accuracy\", knntrainaccuracy3)\n",
        "\n",
        "print(\"Confusion matrix\\n\", cm3)"
      ],
      "metadata": {
        "id": "lf7jq183_-Dr",
        "colab": {
          "base_uri": "https://localhost:8080/"
        },
        "outputId": "705a8136-2bee-4fff-b69d-4393eac8dfc1"
      },
      "execution_count": 80,
      "outputs": [
        {
          "output_type": "stream",
          "name": "stdout",
          "text": [
            "[1 1 0 ... 0 2 0]\n",
            "Test Model accuracy 0.65815\n",
            "Confusion matrix\n",
            " [[2330   31 1228]\n",
            " [ 620 3129 2077]\n",
            " [1476 1405 7704]]\n"
          ]
        }
      ]
    },
    {
      "cell_type": "code",
      "source": [
        "from sklearn.neighbors import KNeighborsClassifier\n",
        "\n",
        "classifier4 = KNeighborsClassifier(n_neighbors = 100, metric = 'minkowski', p = 2)\n",
        "  #Euclidean matrix is used.\n",
        "classifier4.fit(x_train, y_train)\n",
        "  # Predicting the Test set results\n",
        "y_pred4 = classifier4.predict(x_test)\n",
        "print(y_pred4)\n",
        "knntestaccuracy4 = classifier4.score(x_test, y_test)\n",
        "cm4 = confusion_matrix(y_test, y_pred4)\n",
        " \n",
        "print(\"Test Model accuracy\", knntestaccuracy4)\n",
        "\n",
        "print(\"Confusion matrix\\n\", cm4)"
      ],
      "metadata": {
        "id": "HgDKfFoPAmYp",
        "colab": {
          "base_uri": "https://localhost:8080/"
        },
        "outputId": "3c251318-ee1c-46f4-8cfc-f70ae128ff64"
      },
      "execution_count": 81,
      "outputs": [
        {
          "output_type": "stream",
          "name": "stdout",
          "text": [
            "[1 1 0 ... 0 2 0]\n",
            "Test Model accuracy 0.6721\n",
            "Confusion matrix\n",
            " [[2461   27 1101]\n",
            " [ 654 3175 1997]\n",
            " [1489 1290 7806]]\n"
          ]
        }
      ]
    },
    {
      "cell_type": "code",
      "source": [
        "classifier6 = KNeighborsClassifier(n_neighbors = 50, metric = 'minkowski', p = 2)\n",
        "  #Euclidean matrix is used.\n",
        "classifier6.fit(x_train, y_train)\n",
        "  # Predicting the Test set results\n",
        "y_pred6 = classifier6.predict(x_test)\n",
        "print(y_pred6)\n",
        "knntestaccuracy6 = classifier6.score(x_test, y_test)\n",
        "cm6 = confusion_matrix(y_test, y_pred6)\n",
        " \n",
        "print(\"Test Model accuracy\", knntestaccuracy6)\n",
        "\n",
        "print(\"Confusion matrix\\n\", cm6)"
      ],
      "metadata": {
        "colab": {
          "base_uri": "https://localhost:8080/"
        },
        "id": "uFLKxSmeo-7V",
        "outputId": "22e40109-494d-4e5f-fcbd-9db49dbde90d"
      },
      "execution_count": 82,
      "outputs": [
        {
          "output_type": "stream",
          "name": "stdout",
          "text": [
            "[1 1 0 ... 0 2 0]\n",
            "Test Model accuracy 0.6804\n",
            "Confusion matrix\n",
            " [[2458   35 1096]\n",
            " [ 642 3259 1925]\n",
            " [1458 1236 7891]]\n"
          ]
        }
      ]
    },
    {
      "cell_type": "code",
      "source": [
        "classifier7= KNeighborsClassifier(n_neighbors = 3, metric = 'minkowski', p = 2)\n",
        "  #Euclidean matrix is used.\n",
        "classifier7.fit(x_train, y_train)\n",
        "  # Predicting the Test set results\n",
        "y_pred7 = classifier7.predict(x_test)\n",
        "print(y_pred7)\n",
        "knntestaccuracy7 = classifier7.score(x_test, y_test)\n",
        "cm7 = confusion_matrix(y_test, y_pred7)\n",
        " \n",
        "print(\"Test Model accuracy\", knntestaccuracy7)\n",
        "\n",
        "print(\"Confusion matrix\\n\", cm7)"
      ],
      "metadata": {
        "colab": {
          "base_uri": "https://localhost:8080/"
        },
        "id": "bsDV5IY1yYJL",
        "outputId": "ceb306c5-b131-43cb-9b15-9933a19986fc"
      },
      "execution_count": 83,
      "outputs": [
        {
          "output_type": "stream",
          "name": "stdout",
          "text": [
            "[1 2 2 ... 0 2 0]\n",
            "Test Model accuracy 0.6938\n",
            "Confusion matrix\n",
            " [[2291  146 1152]\n",
            " [ 515 3704 1607]\n",
            " [1290 1414 7881]]\n"
          ]
        }
      ]
    },
    {
      "cell_type": "code",
      "source": [
        "from sklearn.ensemble import RandomForestClassifier\n",
        "clf=RandomForestClassifier()\n",
        "clf.fit(x_train,y_train)\n",
        "y_pred5=clf.predict(x_test)\n",
        "y_pred5\n",
        "from sklearn import metrics\n",
        "print(\"Accuracy:\",metrics.accuracy_score(y_test, y_pred5))"
      ],
      "metadata": {
        "id": "ytjshwDuEF1e",
        "colab": {
          "base_uri": "https://localhost:8080/"
        },
        "outputId": "2cc79cfc-638d-483a-8756-7a0c9530be3f"
      },
      "execution_count": 84,
      "outputs": [
        {
          "output_type": "stream",
          "name": "stdout",
          "text": [
            "Accuracy: 0.83185\n"
          ]
        }
      ]
    },
    {
      "cell_type": "code",
      "source": [
        "#identifying the most important features in the data\n",
        "importance = clf.feature_importances_\n",
        "print(importance)\n",
        "t=dataenc.columns[:]\n",
        "plt.figure(figsize=(12,20))\n",
        "sns.barplot(x=importance, y=t )\n",
        "# Add labels to your graph\n",
        "\n",
        "plt.xlabel('Feature Importance Score')\n",
        "plt.ylabel('Features')\n",
        "plt.title(\"Visualizing Important Features\")\n",
        "plt.show()"
      ],
      "metadata": {
        "id": "W5GIybJWBgPB",
        "colab": {
          "base_uri": "https://localhost:8080/",
          "height": 1000
        },
        "outputId": "1bf2ca3d-d758-4d6b-f590-ef5085a6f9a1"
      },
      "execution_count": 85,
      "outputs": [
        {
          "output_type": "stream",
          "name": "stdout",
          "text": [
            "[0.04670186 0.03137276 0.03230698 0.02893462 0.0320199  0.0332455\n",
            " 0.02236868 0.03514557 0.06690174 0.01825225 0.04863753 0.03169419\n",
            " 0.04726871 0.03676613 0.08937701 0.03594407 0.05151149 0.03342005\n",
            " 0.03162401 0.03813038 0.01697143 0.00271238 0.00272312 0.00295614\n",
            " 0.0028226  0.0028314  0.00282417 0.0025827  0.00299162 0.00259621\n",
            " 0.00280929 0.00263096 0.00264717 0.00294073 0.002768   0.00258271\n",
            " 0.01413964 0.0353075  0.04874255 0.00346181 0.00870599 0.01127977\n",
            " 0.00455038 0.00535739 0.00410062 0.00388239 0.00446646 0.00599143]\n"
          ]
        },
        {
          "output_type": "display_data",
          "data": {
            "text/plain": [
              "<Figure size 864x1440 with 1 Axes>"
            ],
            "image/png": "[encoded data removed]"
          },
          "metadata": {
            "needs_background": "light"
          }
        }
      ]
    },
    {
      "cell_type": "code",
      "source": [
        "for i,v in enumerate(importance):\n",
        "  print('Feature: ',i, '\\b, Score: ',v)\n",
        "plt.figure(figsize=(12,20))\n",
        "# plot feature importance\n",
        "plt.bar([x for x in range(len(importance))], importance)\n",
        "plt.show()"
      ],
      "metadata": {
        "id": "qDqzWYVTD-To",
        "colab": {
          "base_uri": "https://localhost:8080/",
          "height": 1000
        },
        "outputId": "94b8f670-d3d4-4c79-caff-a26ff7e5833e"
      },
      "execution_count": 86,
      "outputs": [
        {
          "output_type": "stream",
          "name": "stdout",
          "text": [
            "Feature:  0 \b, Score:  0.04670186100752453\n",
            "Feature:  1 \b, Score:  0.03137276002577544\n",
            "Feature:  2 \b, Score:  0.032306981277665986\n",
            "Feature:  3 \b, Score:  0.02893461576585724\n",
            "Feature:  4 \b, Score:  0.03201990498021667\n",
            "Feature:  5 \b, Score:  0.033245503893975806\n",
            "Feature:  6 \b, Score:  0.022368676282106037\n",
            "Feature:  7 \b, Score:  0.03514557142233304\n",
            "Feature:  8 \b, Score:  0.0669017448340632\n",
            "Feature:  9 \b, Score:  0.018252254557966415\n",
            "Feature:  10 \b, Score:  0.048637529269040886\n",
            "Feature:  11 \b, Score:  0.03169419119898797\n",
            "Feature:  12 \b, Score:  0.04726870809429922\n",
            "Feature:  13 \b, Score:  0.03676612519219091\n",
            "Feature:  14 \b, Score:  0.08937700662408953\n",
            "Feature:  15 \b, Score:  0.03594407268570479\n",
            "Feature:  16 \b, Score:  0.051511486030323975\n",
            "Feature:  17 \b, Score:  0.033420053350528195\n",
            "Feature:  18 \b, Score:  0.03162400644113967\n",
            "Feature:  19 \b, Score:  0.03813038177079251\n",
            "Feature:  20 \b, Score:  0.016971429104407312\n",
            "Feature:  21 \b, Score:  0.0027123822762542714\n",
            "Feature:  22 \b, Score:  0.002723118808743833\n",
            "Feature:  23 \b, Score:  0.002956141097888203\n",
            "Feature:  24 \b, Score:  0.002822599023605728\n",
            "Feature:  25 \b, Score:  0.002831398737109298\n",
            "Feature:  26 \b, Score:  0.0028241679660429226\n",
            "Feature:  27 \b, Score:  0.002582697162366736\n",
            "Feature:  28 \b, Score:  0.0029916155621960996\n",
            "Feature:  29 \b, Score:  0.0025962072506847326\n",
            "Feature:  30 \b, Score:  0.0028092948574557942\n",
            "Feature:  31 \b, Score:  0.002630961411661936\n",
            "Feature:  32 \b, Score:  0.0026471743930893098\n",
            "Feature:  33 \b, Score:  0.002940731969387918\n",
            "Feature:  34 \b, Score:  0.0027680015564518364\n",
            "Feature:  35 \b, Score:  0.0025827117904675817\n",
            "Feature:  36 \b, Score:  0.014139636713740604\n",
            "Feature:  37 \b, Score:  0.035307500479219794\n",
            "Feature:  38 \b, Score:  0.04874255279187864\n",
            "Feature:  39 \b, Score:  0.0034618079836339377\n",
            "Feature:  40 \b, Score:  0.008705989528865171\n",
            "Feature:  41 \b, Score:  0.01127977021965732\n",
            "Feature:  42 \b, Score:  0.004550382718010955\n",
            "Feature:  43 \b, Score:  0.005357394689635277\n",
            "Feature:  44 \b, Score:  0.004100622363878318\n",
            "Feature:  45 \b, Score:  0.0038823885603022894\n",
            "Feature:  46 \b, Score:  0.00446646030856624\n",
            "Feature:  47 \b, Score:  0.005991425970215903\n"
          ]
        },
        {
          "output_type": "display_data",
          "data": {
            "text/plain": [
              "<Figure size 864x1440 with 1 Axes>"
            ],
            "image/png": "[encoded data removed]"
          },
          "metadata": {
            "needs_background": "light"
          }
        }
      ]
    },
    {
      "cell_type": "code",
      "source": [],
      "metadata": {
        "id": "qwkoVsJ-Fsb8"
      },
      "execution_count": null,
      "outputs": []
    }
  ]
}